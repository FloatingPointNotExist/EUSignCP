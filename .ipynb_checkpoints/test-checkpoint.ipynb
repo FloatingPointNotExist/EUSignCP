{
 "cells": [
  {
   "cell_type": "code",
   "execution_count": 1,
   "metadata": {},
   "outputs": [],
   "source": [
    "import json\n",
    "import base64\n",
    "from EUSignCP import EULoad, EUUnload, EUGetInterface\n",
    "\n",
    "import os\n",
    "os.putenv('LD_LIBRARY_PATH', '/home/sirius/git/EUSignCP/Modules')\n",
    "# export LD_LIBRARY_PATH='/home/sirius/git/EUSignCP/Modules'"
   ]
  },
  {
   "cell_type": "code",
   "execution_count": 5,
   "metadata": {},
   "outputs": [
    {
     "ename": "RuntimeError",
     "evalue": "Error load library",
     "output_type": "error",
     "traceback": [
      "\u001b[0;31m---------------------------------------------------------------------------\u001b[0m",
      "\u001b[0;31mRuntimeError\u001b[0m                              Traceback (most recent call last)",
      "\u001b[0;32m<ipython-input-5-76f0722ba929>\u001b[0m in \u001b[0;36m<module>\u001b[0;34m\u001b[0m\n\u001b[1;32m      7\u001b[0m \u001b[0;34m\u001b[0m\u001b[0m\n\u001b[1;32m      8\u001b[0m \u001b[0;34m\u001b[0m\u001b[0m\n\u001b[0;32m----> 9\u001b[0;31m \u001b[0mEULoad\u001b[0m\u001b[0;34m(\u001b[0m\u001b[0;34m)\u001b[0m\u001b[0;34m\u001b[0m\u001b[0;34m\u001b[0m\u001b[0m\n\u001b[0m\u001b[1;32m     10\u001b[0m \u001b[0minf\u001b[0m \u001b[0;34m=\u001b[0m \u001b[0mEUGetInterface\u001b[0m\u001b[0;34m(\u001b[0m\u001b[0;34m)\u001b[0m\u001b[0;34m\u001b[0m\u001b[0;34m\u001b[0m\u001b[0m\n\u001b[1;32m     11\u001b[0m \u001b[0minf\u001b[0m\u001b[0;34m.\u001b[0m\u001b[0mInitialize\u001b[0m\u001b[0;34m(\u001b[0m\u001b[0;34m)\u001b[0m\u001b[0;34m\u001b[0m\u001b[0;34m\u001b[0m\u001b[0m\n",
      "\u001b[0;31mRuntimeError\u001b[0m: Error load library"
     ]
    }
   ],
   "source": [
    "with open('Modules/cert/CAs.json') as cert:\n",
    "    certs = json.load(cert)\n",
    "\n",
    "filename = '3188718600R19K2A.xlsx.p7s'\n",
    "with open(filename, 'rb') as f:\n",
    "    binfile = f.read()\n",
    "\n",
    "\n",
    "EULoad()\n",
    "inf = EUGetInterface()\n",
    "inf.Initialize()\n",
    "\n",
    "try:\n",
    "\n",
    "    signs = []\n",
    "    inf.GetFileSignsCount(filename, signs)\n",
    "    print('Signs:', signs)\n",
    "    \n",
    "    signer = []\n",
    "    cert = []\n",
    "    inf.GetFileSigner(dwSignIndex=0, pszFileNameWithSign='signed.pdf', ppszSigner=signer, ppbSigner=cert)\n",
    "    #signer = base64.b64decode(signer[0])\n",
    "    print(signer)\n",
    "    print(cert)\n",
    "finally:\n",
    "    inf.Finalize()\n",
    "\n",
    "EUUnload()"
   ]
  },
  {
   "cell_type": "code",
   "execution_count": 4,
   "metadata": {},
   "outputs": [
    {
     "ename": "RuntimeError",
     "evalue": "Error load library",
     "output_type": "error",
     "traceback": [
      "\u001b[0;31m---------------------------------------------------------------------------\u001b[0m",
      "\u001b[0;31mRuntimeError\u001b[0m                              Traceback (most recent call last)",
      "\u001b[0;32m<ipython-input-4-54f1657a161a>\u001b[0m in \u001b[0;36m<module>\u001b[0;34m\u001b[0m\n\u001b[1;32m      8\u001b[0m \u001b[0mfile_bytes_length\u001b[0m \u001b[0;34m=\u001b[0m \u001b[0mlen\u001b[0m\u001b[0;34m(\u001b[0m\u001b[0mfile_bytes\u001b[0m\u001b[0;34m)\u001b[0m\u001b[0;34m\u001b[0m\u001b[0;34m\u001b[0m\u001b[0m\n\u001b[1;32m      9\u001b[0m \u001b[0;34m\u001b[0m\u001b[0m\n\u001b[0;32m---> 10\u001b[0;31m \u001b[0mEULoad\u001b[0m\u001b[0;34m(\u001b[0m\u001b[0;34m)\u001b[0m\u001b[0;34m\u001b[0m\u001b[0;34m\u001b[0m\u001b[0m\n\u001b[0m\u001b[1;32m     11\u001b[0m \u001b[0mpIface\u001b[0m \u001b[0;34m=\u001b[0m \u001b[0mEUGetInterface\u001b[0m\u001b[0;34m(\u001b[0m\u001b[0;34m)\u001b[0m\u001b[0;34m\u001b[0m\u001b[0;34m\u001b[0m\u001b[0m\n\u001b[1;32m     12\u001b[0m \u001b[0mpIface\u001b[0m\u001b[0;34m.\u001b[0m\u001b[0mInitialize\u001b[0m\u001b[0;34m(\u001b[0m\u001b[0;34m)\u001b[0m\u001b[0;34m\u001b[0m\u001b[0;34m\u001b[0m\u001b[0m\n",
      "\u001b[0;31mRuntimeError\u001b[0m: Error load library"
     ]
    }
   ],
   "source": [
    "##\n",
    "from EUSignCP import *\n",
    "from pathlib import Path\n",
    "\n",
    "filename = '3188718600R19K2A.xlsx.p7s'\n",
    "with open(filename, \"rb\") as in_file:\n",
    "    file_bytes = in_file.read()\n",
    "file_bytes_length = len(file_bytes)\n",
    "\n",
    "EULoad()\n",
    "pIface = EUGetInterface()\n",
    "pIface.Initialize()\n",
    "print(\"Library Initialized\")\n",
    "\n",
    "# pIface.SetUIMode(False)\n",
    "\n",
    "output = []\n",
    "\n",
    "try:\n",
    "    signs_count = []\n",
    "    pIface.GetFileSignsCount(filename, signs_count)\n",
    "    print('Кількість підписів: ', signs_count[0])\n",
    "\n",
    "    result = {}\n",
    "    pIface.GetFileSignerInfo(0, filename, result, None)\n",
    "    print('result: ', result)\n",
    "\n",
    "    is_data = []\n",
    "    pIface.IsDataInSignedFileAvailable(filename, is_data)\n",
    "    print('Наявінсть підписаних даних: ', is_data[0])\n",
    "\n",
    "    pIface.GetDataFromSignedData(None, file_bytes, file_bytes_length, output)\n",
    "    Path('31254526R19L2A_1223_122236.xlsx').write_bytes(output[0])\n",
    "\n",
    "\n",
    "except Exception as e:\n",
    "    print(\"VerifyData failed\\n\" + str(e))\n",
    "    pIface.Finalize()\n",
    "    EUUnload()\n",
    "    exit()\n",
    "\n",
    "pIface.Finalize()\n",
    "EUUnload()\n",
    "\n",
    "print(\"EUSignCP Python Sign Test done.\")"
   ]
  },
  {
   "cell_type": "code",
   "execution_count": null,
   "metadata": {},
   "outputs": [],
   "source": []
  },
  {
   "cell_type": "code",
   "execution_count": null,
   "metadata": {},
   "outputs": [],
   "source": []
  },
  {
   "cell_type": "code",
   "execution_count": null,
   "metadata": {},
   "outputs": [],
   "source": []
  }
 ],
 "metadata": {
  "kernelspec": {
   "display_name": "Python 3",
   "language": "python",
   "name": "python3"
  },
  "language_info": {
   "codemirror_mode": {
    "name": "ipython",
    "version": 3
   },
   "file_extension": ".py",
   "mimetype": "text/x-python",
   "name": "python",
   "nbconvert_exporter": "python",
   "pygments_lexer": "ipython3",
   "version": "3.6.9"
  }
 },
 "nbformat": 4,
 "nbformat_minor": 2
}
